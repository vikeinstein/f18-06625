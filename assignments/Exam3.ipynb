{
 "cells": [
  {
   "cell_type": "markdown",
   "metadata": {},
   "source": [
    "$$\\require{mhchem}$$"
   ]
  },
  {
   "cell_type": "markdown",
   "metadata": {},
   "source": [
    "# Autothermal reactor [95 pts]\n",
    "\n",
    "Consider our favorite reaction; the Haber-Bosch process:\n",
    "\\begin{align*}\n",
    "\\ce{1/2N2 + 3/2H2 <=>[k_1][k_{-1}] NH3}\n",
    "\\end{align*}\n",
    "We considered in class and in homeworks the case of a plug flow reactor. The reactor operates at a considerable temperature (~650 K) which means we will spend a considerable amount pre-heating the stream to the reactor. The reaction is exothermic, so we will consider an autothermal reactor that uses that energy to pre-heat the inlet stream:\n",
    "![P1](E3P1.png)\n",
    "You should account for changes in the volumetric flow rate due to temperature effects and changes in the number of moles. You may neglect pressure drop effects. You may also assume the reactants are gas phase everywhere and behave like an ideal gas. There is heat exchange between the outer and inner shells. The inner shell radius is 0.5 m, and the outer shell radius is 0.75 m.\n",
    "\n",
    "The catalytic reaction in the inner chamber may be modeled as:\n",
    "\\begin{align*}\n",
    "r = \\frac{k_{-1}}{RT} \\left[K^2(T)\\frac{P_NP_H^{3/2}}{P_{A}} - \\frac{P_A}{P_H^{3/2}}\\right]\n",
    "\\end{align*}\n",
    "Where $P_N, P_H, P_A$ are the partial pressures of nitrogen, hydrogen, and ammonia.\n",
    "\n",
    "Parameters for the process are:\n",
    "\n",
    "|Description| Parameter  | Value  | Units  |\n",
    "|---|---|---|---|\n",
    "|Pressure| P  | 300  | atm  |\n",
    "|Volumetric inlet flow rate| $Q_0$  | 0.06  | m$^3$/s  |\n",
    "| reactor length |L  | 12  |  m |\n",
    "|Feed temperature| T$_{a,f}$  | 323  | K  |\n",
    "|Heat transfer coeff| U  |  1500 | J/m^2/K  |\n",
    "|Specific heat| $\\hat{C}_p$  |  1.6 | J/g/K  |\n",
    "| Equilibrium constant at T$_{ref}$ | $K$ | 1309.7 | 1/atm|\n",
    "|Reaction enthalpy at T$_{ref}$| $\\Delta H^0$  | -12,000  |  cal/mol |\n",
    "|Reference state temperature | $T_{ref}$ | 298 | K |\n",
    "|Arrhenius pre-exponential for $k$| A$_{-1,0}$  |  7.794$\\times 10^{11}$ | atm$^{3/2}$/s   |\n",
    "|Activation energy for $k$| E$_{-1}$/R  | 20000  |  K |\n",
    "\n",
    "The inlet feed is 24 mol% N2, 74 mol% H2, 2 mol% NH3 at 300 atm (isobaric). The rate constant $k$ is well-modeled by the Arrhenius expression with pre-exponential $A_{-1,0}$ and the activation energy $E$ in the table above.\n",
    "\n",
    "\n",
    "The ideal gas constant is $R=82.05\\times 10^{-6}$ [m$^3$ atm/mol K] or 1.987 cal/mol/K.\n",
    "\n"
   ]
  },
  {
   "cell_type": "markdown",
   "metadata": {},
   "source": [
    "## Write down the boundary conditions for each section of the reactor (inner region, and outer shell) and the mol balance, energy balance in each region of the reactor. [25 pt]"
   ]
  },
  {
   "cell_type": "markdown",
   "metadata": {},
   "source": [
    "## Write down the expressions for the temperature-dependent equilibrium constant and the temperature-dependent rate constant. You may assume the enthalpy is temperature-independent. [10 pt]"
   ]
  },
  {
   "cell_type": "markdown",
   "metadata": {},
   "source": [
    "## Qualitatively, which of the following temperature profiles do you expect for the reactor? You must explain your reasoning for full credit. [5 pts]\n",
    "\n",
    "![P2](E3P2.png)\n"
   ]
  },
  {
   "cell_type": "markdown",
   "metadata": {},
   "source": [
    "## You will solve this with the shooting method (which will also help us understand the stability of the system). Solve for the temperature profile in each channel and concentration profile in the inner channel assuming you know the temperature $T_{a}(l=0)=T(l=0)=T_{a,0}$. Vary the temperature  $T_{a,0}$ from 250 K to 1000 K and plot the shell temperature. The solutions are where the $T_{a}(l=L)$ matches the $T_{a,f}$ listed above [30 pt]"
   ]
  },
  {
   "cell_type": "markdown",
   "metadata": {},
   "source": [
    "## How many steady-states are there? For each steady state, solve for and plot the temperature and concentration profiles along the length of the reactor. Describe the solutions. [10]"
   ]
  },
  {
   "cell_type": "markdown",
   "metadata": {},
   "source": [
    "## To make operation easier, find the length of the reactor such that there is only a single high-temperature steady solution. [15 pt]"
   ]
  },
  {
   "cell_type": "markdown",
   "metadata": {},
   "source": [
    "# An exothermic, 1st-order reaction takes place in an adiabatic batch reactor. Which curve best represents the behavior of the reactor temperature as a function of time? [5 pts]\n",
    "\n",
    "![P3](E3P3.png)\n"
   ]
  },
  {
   "cell_type": "code",
   "execution_count": null,
   "metadata": {},
   "outputs": [],
   "source": []
  }
 ],
 "metadata": {
  "kernelspec": {
   "display_name": "Python 3",
   "language": "python",
   "name": "python3"
  },
  "language_info": {
   "codemirror_mode": {
    "name": "ipython",
    "version": 3
   },
   "file_extension": ".py",
   "mimetype": "text/x-python",
   "name": "python",
   "nbconvert_exporter": "python",
   "pygments_lexer": "ipython3",
   "version": "3.7.1"
  }
 },
 "nbformat": 4,
 "nbformat_minor": 2
}
