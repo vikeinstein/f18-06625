{
 "cells": [
  {
   "cell_type": "markdown",
   "metadata": {},
   "source": [
    "$$\\require{mhchem}$$       "
   ]
  },
  {
   "cell_type": "markdown",
   "metadata": {},
   "source": [
    "# Nonisothermal PFR [2 pts]"
   ]
  },
  {
   "cell_type": "markdown",
   "metadata": {},
   "source": [
    "Complete the final example from 11/19 (PFR with counter-flow heat exchanger) with your choice of solver (BVP_nl or solve_bvp from scipy). Comment on any numerical troubles or issues you ran into along the way."
   ]
  },
  {
   "cell_type": "code",
   "execution_count": 8,
   "metadata": {},
   "outputs": [
    {
     "data": {
      "image/png": "[encoded data removed]",
      "text/plain": [
       "<Figure size 432x288 with 2 Axes>"
      ]
     },
     "metadata": {},
     "output_type": "display_data"
    }
   ],
   "source": [
    "import numpy as np\n",
    "import matplotlib.pyplot as plt\n",
    "from scipy.optimize import fsolve\n",
    "\n",
    "Fa0 = 0.0376      # mol/s\n",
    "Ca0 = 0.0188      # mol / L\n",
    "\n",
    "v0 = Fa0 / Ca0    # initial volumetric flow\n",
    "Ft0 = Fa0\n",
    "\n",
    "T0 = 1035.0       # K\n",
    "\n",
    "Hrxn_298 = 80.77  # kJ/mol at 298K\n",
    "Cpa = 0.1630      # kJ/mol/K\n",
    "Cpb = 0.083\n",
    "Cpc = 0.071\n",
    "\n",
    "Tshell0 = 1100.0    # ambient heat exchanger temperature\n",
    "Ua = 0.0165         # overall heat transfer coefficient\n",
    "mdot = 1.0          # mol/s coolant flow rate\n",
    "Cpcoolant = 0.0345  # Heat capacity of coolant\n",
    "\n",
    "def bvp(V, Y):\n",
    "    Fa, T, Tshell = Y\n",
    "\n",
    "    extent = (Fa - Fa0) / (-1.0)\n",
    "    Fb = extent\n",
    "    Fc = extent\n",
    "\n",
    "    Ft = Fa + Fb + Fc\n",
    "\n",
    "    v = v0 * Ft / Ft0 * T / T0\n",
    "\n",
    "    k = np.exp(34.3 - 34222.0 / T)\n",
    "    Ca = Fa / v\n",
    "    r = k * Ca\n",
    "    ra = -r\n",
    "    Hrxn = Hrxn_298 + (Cpb + Cpc - Cpa) * (T - 298.0)\n",
    "\n",
    "    dFadV = ra\n",
    "\n",
    "    Qdot = Ua * (Tshell - T)\n",
    "    dTdV = (-Hrxn * r + Qdot) / (Fa * Cpa + Fb * Cpb + Fc * Cpc)\n",
    "    dTshelldV = Qdot / (mdot * Cpcoolant)\n",
    "\n",
    "    return [dFadV, dTdV, dTshelldV]\n",
    "\n",
    "def bc(Ya, Yb):\n",
    "    Faa, Ta, Tsa = Ya\n",
    "    Fab, Tb, Tsb = Yb\n",
    "    return [Faa - Fa0, Ta - T0, Tsb -1250]\n",
    "\n",
    "L = 20\n",
    "Vspan = np.linspace(0, 20, 100)  # volume in L\n",
    "\n",
    "Fapars = np.polyfit([0, L/2, L], [Fa0, 0.002, 0], 2)\n",
    "Fa = np.polyval(Fapars, Vspan)\n",
    "Tpars = np.polyfit([0, L/2, L], [T0, 1175, 1200], 2)\n",
    "T = np.polyval(Tpars, Vspan)\n",
    "Tspars = np.polyfit([0, L/2, L], [Tshell0, 1175, 1200], 2)\n",
    "Tshell = np.polyval(Tspars, Vspan)\n",
    "Y = np.array([Fa, T, Tshell])\n",
    "\n",
    "sol = solve_bvp(bvp, bc, Vspan, Y)\n",
    "\n",
    "Fa = sol.y[0]\n",
    "T = sol.y[1]\n",
    "Tshell = sol.y[2]\n",
    "X = ((Fa - Fa0) * (-1) / Fa0)\n",
    "\n",
    "plt.subplot(1, 2, 1)\n",
    "plt.plot(sol.x, X)\n",
    "plt.xlabel('Volume (L)')\n",
    "plt.ylabel('Conversion')\n",
    "\n",
    "plt.subplot(1, 2, 2)\n",
    "plt.plot(sol.x, T, label='Tube')\n",
    "plt.plot(sol.x, Tshell, label='Shell')\n",
    "plt.xlabel('Volume (L)')\n",
    "plt.ylabel('Temperature (K)')\n",
    "plt.legend()\n",
    "plt.tight_layout()\n",
    "\n",
    "plt.show()"
   ]
  },
  {
   "cell_type": "code",
   "execution_count": null,
   "metadata": {},
   "outputs": [],
   "source": []
  }
 ],
 "metadata": {
  "kernelspec": {
   "display_name": "Python 3",
   "language": "python",
   "name": "python3"
  },
  "language_info": {
   "codemirror_mode": {
    "name": "ipython",
    "version": 3
   },
   "file_extension": ".py",
   "mimetype": "text/x-python",
   "name": "python",
   "nbconvert_exporter": "python",
   "pygments_lexer": "ipython3",
   "version": "3.6.3"
  },
  "toc": {
   "base_numbering": 1,
   "nav_menu": {
    "height": "155px",
    "width": "252px"
   },
   "number_sections": true,
   "sideBar": true,
   "skip_h1_title": false,
   "title_cell": "Table of Contents",
   "title_sidebar": "Contents",
   "toc_cell": false,
   "toc_position": {},
   "toc_section_display": "block",
   "toc_window_display": false
  }
 },
 "nbformat": 4,
 "nbformat_minor": 2
}
